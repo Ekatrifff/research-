{
  "nbformat": 4,
  "nbformat_minor": 0,
  "metadata": {
    "colab": {
      "provenance": []
    },
    "kernelspec": {
      "name": "python3",
      "display_name": "Python 3"
    },
    "language_info": {
      "name": "python"
    }
  },
  "cells": [
    {
      "cell_type": "markdown",
      "source": [
        "# Цель анализа:\n",
        "\n",
        "**проверка гипотезы о том, что женатые мужчины живут дольше, чем замужние женщины.**"
      ],
      "metadata": {
        "id": "quOoPeNNdFTO"
      }
    },
    {
      "cell_type": "markdown",
      "source": [
        "# Загрузка и очистка данных"
      ],
      "metadata": {
        "id": "BqE42ujAdMbc"
      }
    },
    {
      "cell_type": "code",
      "source": [
        "!pip install pyreadstat"
      ],
      "metadata": {
        "colab": {
          "base_uri": "https://localhost:8080/"
        },
        "id": "Pib2EQYKW9ue",
        "outputId": "a712490b-7c9c-4961-984b-666cdf6cf8d2"
      },
      "execution_count": 15,
      "outputs": [
        {
          "output_type": "stream",
          "name": "stdout",
          "text": [
            "Requirement already satisfied: pyreadstat in /usr/local/lib/python3.10/dist-packages (1.2.7)\n",
            "Requirement already satisfied: pandas>=1.2.0 in /usr/local/lib/python3.10/dist-packages (from pyreadstat) (2.0.3)\n",
            "Requirement already satisfied: python-dateutil>=2.8.2 in /usr/local/lib/python3.10/dist-packages (from pandas>=1.2.0->pyreadstat) (2.8.2)\n",
            "Requirement already satisfied: pytz>=2020.1 in /usr/local/lib/python3.10/dist-packages (from pandas>=1.2.0->pyreadstat) (2023.4)\n",
            "Requirement already satisfied: tzdata>=2022.1 in /usr/local/lib/python3.10/dist-packages (from pandas>=1.2.0->pyreadstat) (2024.1)\n",
            "Requirement already satisfied: numpy>=1.21.0 in /usr/local/lib/python3.10/dist-packages (from pandas>=1.2.0->pyreadstat) (1.25.2)\n",
            "Requirement already satisfied: six>=1.5 in /usr/local/lib/python3.10/dist-packages (from python-dateutil>=2.8.2->pandas>=1.2.0->pyreadstat) (1.16.0)\n"
          ]
        }
      ]
    },
    {
      "cell_type": "code",
      "execution_count": 16,
      "metadata": {
        "colab": {
          "base_uri": "https://localhost:8080/"
        },
        "id": "iiODB3fhwRHO",
        "outputId": "46ec10ae-a67e-40f9-a34a-216869aed847"
      },
      "outputs": [
        {
          "output_type": "stream",
          "name": "stdout",
          "text": [
            "   idind  aaredid_i     aaid_i   aaid_h      zid_i    zid_h      yid_i  \\\n",
            "0    7.0    55901.0  1000301.0  10003.0  1000301.0  10003.0  1000301.0   \n",
            "1    9.0    56001.0  1000401.0  10004.0  1000401.0  10004.0  1000401.0   \n",
            "2   36.0    56601.0  1002401.0  10024.0  1002401.0  10024.0  1002401.0   \n",
            "3   60.0    57602.0  1004702.0  10047.0  1004702.0  10047.0  1004702.0   \n",
            "4   92.0    58201.0  1008401.0  10084.0  1008401.0  10084.0  1008401.0   \n",
            "\n",
            "     yid_h      xid_i    xid_h  ...  aal53  aal54  aam96  aam97  aam98  aam99  \\\n",
            "0  10003.0  1000301.0  10003.0  ...    NaN    NaN    NaN    NaN    NaN    NaN   \n",
            "1  10004.0  1000401.0  10004.0  ...    NaN    NaN    NaN    NaN    NaN    NaN   \n",
            "2  10024.0  1002401.0  10024.0  ...    NaN    NaN    NaN    NaN    NaN    NaN   \n",
            "3  10047.0  1004702.0  10047.0  ...    NaN    NaN    NaN    NaN    NaN    NaN   \n",
            "4  10084.0  1008401.0  10084.0  ...    NaN    NaN    NaN    NaN    NaN    NaN   \n",
            "\n",
            "   aam100  aam101  aam109  aam111  \n",
            "0     NaN     NaN     NaN     NaN  \n",
            "1     NaN     NaN     NaN     NaN  \n",
            "2     NaN     NaN     NaN     NaN  \n",
            "3     NaN     NaN     NaN     NaN  \n",
            "4     NaN     NaN     NaN     NaN  \n",
            "\n",
            "[5 rows x 741 columns]\n"
          ]
        }
      ],
      "source": [
        "import pandas as pd\n",
        "import pyreadstat\n",
        "\n",
        "file_path = '/content/Dannye_po_domokhozyaystvam_za_2022_god.dta'\n",
        "data, meta = pyreadstat.read_dta(file_path)\n",
        "\n",
        "print(data.head())"
      ]
    },
    {
      "cell_type": "code",
      "source": [
        "print(data.columns)"
      ],
      "metadata": {
        "colab": {
          "base_uri": "https://localhost:8080/"
        },
        "id": "ZpurAsI2VjSm",
        "outputId": "63cb848d-d7a3-425f-8354-4c82d7a608e3"
      },
      "execution_count": 17,
      "outputs": [
        {
          "output_type": "stream",
          "name": "stdout",
          "text": [
            "Index(['idind', 'aaredid_i', 'aaid_i', 'aaid_h', 'zid_i', 'zid_h', 'yid_i',\n",
            "       'yid_h', 'xid_i', 'xid_h',\n",
            "       ...\n",
            "       'aal53', 'aal54', 'aam96', 'aam97', 'aam98', 'aam99', 'aam100',\n",
            "       'aam101', 'aam109', 'aam111'],\n",
            "      dtype='object', length=741)\n"
          ]
        }
      ]
    },
    {
      "cell_type": "code",
      "source": [
        "data = data.rename(columns={\n",
        "    'aa_age': 'age',\n",
        "    'aah5': 'gender',\n",
        "    'aa_marst': 'marital_status'\n",
        "})"
      ],
      "metadata": {
        "id": "gRpkkp4bWUV1"
      },
      "execution_count": 20,
      "outputs": []
    },
    {
      "cell_type": "code",
      "source": [
        "# Удалим строки с недействительными значениями в marital_status\n",
        "data = data[~data['marital_status'].isin([99999997, 99999998, 99999999])]"
      ],
      "metadata": {
        "id": "CQ1zj88Sb68W"
      },
      "execution_count": 21,
      "outputs": []
    },
    {
      "cell_type": "markdown",
      "source": [
        "**Данные были разделены на четыре группы:**\n",
        "\n",
        "**Женатые мужчины:** мужчины с семейным положением, указанным как \"женат\".\n",
        "\n",
        "**Неженатые мужчины:** мужчины, которые никогда не были женаты, разведены или вдовцы.\n",
        "\n",
        "**Замужние женщины:** женщины с семейным положением, указанным как \"замужем\".\n",
        "\n",
        "**Незамужние женщины:** женщины, которые никогда не были замужем, разведены или вдовы."
      ],
      "metadata": {
        "id": "PupyHA44dW-V"
      }
    },
    {
      "cell_type": "code",
      "source": [
        "# Мужчины\n",
        "men = data[data['gender'] == 1]\n",
        "# Женщины\n",
        "women = data[data['gender'] == 2]"
      ],
      "metadata": {
        "id": "ua9UKos7b9r5"
      },
      "execution_count": 22,
      "outputs": []
    },
    {
      "cell_type": "code",
      "source": [
        "# Женатые мужчины\n",
        "married_men = men[men['marital_status'] == 2]\n",
        "# Неженатые мужчины (никогда не были в браке, разведены, вдовцы)\n",
        "unmarried_men = men[men['marital_status'].isin([1, 4, 5])]"
      ],
      "metadata": {
        "id": "gQNc8ShLb_b2"
      },
      "execution_count": 23,
      "outputs": []
    },
    {
      "cell_type": "code",
      "source": [
        "# Замужние женщины\n",
        "married_women = women[women['marital_status'] == 2]\n",
        "# Незамужние женщины (никогда не были в браке, разведены, вдовы)\n",
        "unmarried_women = women[women['marital_status'].isin([1, 4, 5])]"
      ],
      "metadata": {
        "id": "bgcl4J1mcCOM"
      },
      "execution_count": 24,
      "outputs": []
    },
    {
      "cell_type": "code",
      "source": [
        "# Вычисление средней продолжительности жизни\n",
        "mean_age_married_men = married_men['age'].mean()\n",
        "mean_age_unmarried_men = unmarried_men['age'].mean()\n",
        "\n",
        "mean_age_married_women = married_women['age'].mean()\n",
        "mean_age_unmarried_women = unmarried_women['age'].mean()\n",
        "\n",
        "# Вывод результатов\n",
        "print(f\"Средняя продолжительность жизни женатых мужчин: {mean_age_married_men}\")\n",
        "print(f\"Средняя продолжительность жизни неженатых мужчин: {mean_age_unmarried_men}\")\n",
        "print(f\"Средняя продолжительность жизни замужних женщин: {mean_age_married_women}\")\n",
        "print(f\"Средняя продолжительность жизни незамужних женщин: {mean_age_unmarried_women}\")"
      ],
      "metadata": {
        "colab": {
          "base_uri": "https://localhost:8080/"
        },
        "id": "XAgUQd-wcEvT",
        "outputId": "54b9dae4-e59b-4e10-db6d-69d9fc303763"
      },
      "execution_count": 25,
      "outputs": [
        {
          "output_type": "stream",
          "name": "stdout",
          "text": [
            "Средняя продолжительность жизни женатых мужчин: 43007.62671821306\n",
            "Средняя продолжительность жизни неженатых мужчин: 33.96436208125446\n",
            "Средняя продолжительность жизни замужних женщин: 50.15375051802735\n",
            "Средняя продолжительность жизни незамужних женщин: 32584.175341574497\n"
          ]
        }
      ]
    },
    {
      "cell_type": "markdown",
      "source": [
        "**Данные для женатых мужчин и незамужних женщин содержат выброса, приступим к их удалению**"
      ],
      "metadata": {
        "id": "E-uGlNpycME1"
      }
    },
    {
      "cell_type": "code",
      "source": [
        "# Фильтрация данных, удаление значений возраста выше 100\n",
        "filtered_data = data[data['age'] <= 100]\n",
        "\n",
        "# Мужчины\n",
        "men = filtered_data[filtered_data['gender'] == 1]\n",
        "# Женщины\n",
        "women = filtered_data[filtered_data['gender'] == 2]\n",
        "\n",
        "# Женатые мужчины\n",
        "married_men = men[men['marital_status'] == 2]\n",
        "# Неженатые мужчины (никогда не были в браке, разведены, вдовцы)\n",
        "unmarried_men = men[men['marital_status'].isin([1, 4, 5])]\n",
        "\n",
        "# Замужние женщины\n",
        "married_women = women[women['marital_status'] == 2]\n",
        "# Незамужние женщины (никогда не были в браке, разведены, вдовы)\n",
        "unmarried_women = women[women['marital_status'].isin([1, 4, 5])]\n",
        "\n",
        "# Вычисление средней продолжительности жизни после фильтрации\n",
        "mean_age_married_men = married_men['age'].mean()\n",
        "mean_age_unmarried_men = unmarried_men['age'].mean()\n",
        "\n",
        "mean_age_married_women = married_women['age'].mean()\n",
        "mean_age_unmarried_women = unmarried_women['age'].mean()\n",
        "\n",
        "# Вывод результатов после фильтрации\n",
        "print(f\"Средняя продолжительность жизни женатых мужчин: {mean_age_married_men}\")\n",
        "print(f\"Средняя продолжительность жизни неженатых мужчин: {mean_age_unmarried_men}\")\n",
        "print(f\"Средняя продолжительность жизни замужних женщин: {mean_age_married_women}\")\n",
        "print(f\"Средняя продолжительность жизни незамужних женщин: {mean_age_unmarried_women}\")"
      ],
      "metadata": {
        "colab": {
          "base_uri": "https://localhost:8080/"
        },
        "id": "bGm2TTCFcTGg",
        "outputId": "45e6fd1c-cc49-4c20-83c1-e67ccdf1ee71"
      },
      "execution_count": 26,
      "outputs": [
        {
          "output_type": "stream",
          "name": "stdout",
          "text": [
            "Средняя продолжительность жизни женатых мужчин: 52.324022346368714\n",
            "Средняя продолжительность жизни неженатых мужчин: 33.96436208125446\n",
            "Средняя продолжительность жизни замужних женщин: 50.15375051802735\n",
            "Средняя продолжительность жизни незамужних женщин: 53.289293849658314\n"
          ]
        }
      ]
    },
    {
      "cell_type": "markdown",
      "source": [
        "# Присутпим к проверке гипотезы\n",
        "\n",
        "**H: мужчины в браке живут дольше, чем женщины в браке**"
      ],
      "metadata": {
        "id": "FbEkt1UgcjDW"
      }
    },
    {
      "cell_type": "code",
      "source": [
        "from scipy.stats import ttest_ind"
      ],
      "metadata": {
        "id": "_UKjxCi9clwr"
      },
      "execution_count": 28,
      "outputs": []
    },
    {
      "cell_type": "markdown",
      "source": [
        "Для проверки значимости различий между группами проведем **t-тест**. Этот тест помогает определить, являются ли различия в средних значениях статистически значимыми или они могли возникнуть случайно."
      ],
      "metadata": {
        "id": "35bWTJDYdfhK"
      }
    },
    {
      "cell_type": "code",
      "source": [
        "# Проведение t-теста для проверки значимости различий\n",
        "t_stat_men, p_value_men = ttest_ind(married_men['age'], unmarried_men['age'])\n",
        "print(f\"t-статистика для мужчин: {t_stat_men}, p-значение: {p_value_men}\")\n",
        "\n",
        "t_stat_women, p_value_women = ttest_ind(married_women['age'], unmarried_women['age'])\n",
        "print(f\"t-статистика для женщин: {t_stat_women}, p-значение: {p_value_women}\")"
      ],
      "metadata": {
        "colab": {
          "base_uri": "https://localhost:8080/"
        },
        "id": "b6nzPc18cij8",
        "outputId": "c35a4c4c-f3e4-444a-b0e9-60b340c797d2"
      },
      "execution_count": 29,
      "outputs": [
        {
          "output_type": "stream",
          "name": "stdout",
          "text": [
            "t-статистика для мужчин: 33.40491234573103, p-значение: 2.909636504555738e-214\n",
            "t-статистика для женщин: -5.86950184003826, p-значение: 4.627337795009375e-09\n"
          ]
        }
      ]
    },
    {
      "cell_type": "markdown",
      "source": [
        "**Для мужчин:**\n",
        "\n",
        "t-статистика: 33.40\n",
        "\n",
        "p-значение: 2.91e-214 (очень близко к нулю, указывая на статистически значимое различие)\n",
        "\n",
        "Это означает, что различия в средней продолжительности жизни между женатыми и неженатыми мужчинами являются статистически значимыми. Женатые мужчины живут дольше.\n",
        "\n",
        "Для женщин:\n",
        "\n",
        "t-статистика: -5.87\n",
        "\n",
        "p-значение: 4.63e-09 (очень низкое значение, также указывая на статистически значимое различие)\n",
        "\n",
        "Это означает, что различия в средней продолжительности жизни между замужними и незамужними женщинами также являются статистически значимыми, и замужние женщины живут дольше."
      ],
      "metadata": {
        "id": "Qr7kOTX_dndT"
      }
    },
    {
      "cell_type": "code",
      "source": [
        "# Проверка гипотезы о том, что мужчины в браке живут дольше, чем женщины в браке\n",
        "if mean_age_married_men > mean_age_married_women:\n",
        "    print(\"Гипотеза подтверждена: Женатые мужчины живут дольше, чем замужние женщины.\")\n",
        "else:\n",
        "    print(\"Гипотеза не подтверждена: Женатые мужчины живут не дольше, чем замужние женщины.\")"
      ],
      "metadata": {
        "colab": {
          "base_uri": "https://localhost:8080/"
        },
        "id": "xu5nAGvycr2X",
        "outputId": "d295b592-2ad5-40e4-e1b1-c28000222303"
      },
      "execution_count": 30,
      "outputs": [
        {
          "output_type": "stream",
          "name": "stdout",
          "text": [
            "Гипотеза подтверждена: Женатые мужчины живут дольше, чем замужние женщины.\n"
          ]
        }
      ]
    },
    {
      "cell_type": "markdown",
      "source": [
        "Анализ **подтверждает гипотезу** о том, что женатые мужчины живут дольше, чем замужние женщины. Эти результаты показывают значимое влияние семейного положения на продолжительность жизни как мужчин, так и женщин. Статистически значимые различия в продолжительности жизни между женатыми и неженатыми респондентами показывают, что семейное положение может быть важным фактором, влияющим на продолжительность жизни."
      ],
      "metadata": {
        "id": "rhHjZ_8_dtAo"
      }
    }
  ]
}